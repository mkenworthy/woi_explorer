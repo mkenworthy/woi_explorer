{
 "cells": [
  {
   "cell_type": "markdown",
   "metadata": {},
   "source": [
    "# The Weird Detector curves\n",
    "\n",
    "The bumps seen in the Kepler curves from [Wheeler and Kipping (2019)](https://ui.adsabs.harvard.edu/#abs/2019MNRAS.tmp..746W/abstract) could be forward scattering from hot Jupiters at high inclination that are not transiting their parent stars but are shedding a halo of gas or dust and we are seeing the forward scattering from them. This is a quick look at the data to see if thie is reasonable."
   ]
  },
  {
   "cell_type": "code",
   "execution_count": 25,
   "metadata": {},
   "outputs": [],
   "source": [
    "import numpy as np\n",
    "from astropy import constants as c\n",
    "from astropy import units as u\n",
    "import matplotlib as mpl\n",
    "import matplotlib.pyplot as plt\n",
    "\n",
    "%matplotlib inline"
   ]
  },
  {
   "cell_type": "code",
   "execution_count": 26,
   "metadata": {},
   "outputs": [
    {
     "data": {
      "text/html": [
       "<i>Table length=18</i>\n",
       "<table id=\"table4868588096\" class=\"table-striped table-bordered table-condensed\">\n",
       "<thead><tr><th>KIC</th><th>Period</th><th>Amp</th><th>Amp_err</th><th>Tstar</th><th>Mstar</th><th>Rstar</th></tr></thead>\n",
       "<thead><tr><th></th><th>d</th><th></th><th></th><th>K</th><th>solMass</th><th>solRad</th></tr></thead>\n",
       "<thead><tr><th>str12</th><th>float64</th><th>float64</th><th>float64</th><th>float64</th><th>float64</th><th>float64</th></tr></thead>\n",
       "<tr><td>KIC 6862114</td><td>27.68</td><td>0.62</td><td>0.03</td><td>7227.0</td><td>1.29</td><td>1.782</td></tr>\n",
       "<tr><td>KIC 11397541</td><td>13.25</td><td>0.96</td><td>0.02</td><td>6254.0</td><td>1.08</td><td>1.064</td></tr>\n",
       "<tr><td>KIC 7837214</td><td>7.49</td><td>0.99</td><td>0.04</td><td>6170.0</td><td>0.91</td><td>0.981</td></tr>\n",
       "<tr><td>KIC 4371947</td><td>19.72</td><td>0.36</td><td>0.02</td><td>6720.0</td><td>1.44</td><td>1.671</td></tr>\n",
       "<tr><td>KIC 8694536</td><td>35.95</td><td>0.28</td><td>0.01</td><td>6279.0</td><td>1.063</td><td>1.525</td></tr>\n",
       "<tr><td>KIC 7870350</td><td>23.142</td><td>0.35</td><td>0.01</td><td>6444.0</td><td>1.22</td><td>1.436</td></tr>\n",
       "<tr><td>KIC 10737327</td><td>22.78</td><td>0.22</td><td>0.02</td><td>6244.0</td><td>1.08</td><td>1.017</td></tr>\n",
       "<tr><td>KIC 5363987</td><td>47.42</td><td>0.32</td><td>0.02</td><td>6190.0</td><td>0.97</td><td>1.196</td></tr>\n",
       "<tr><td>KIC 11498661</td><td>42.09</td><td>0.35</td><td>0.03</td><td>5257.0</td><td>0.79</td><td>0.849</td></tr>\n",
       "<tr><td>KIC 6946895</td><td>34.24</td><td>1.15</td><td>0.08</td><td>6266.0</td><td>1.05</td><td>0.985</td></tr>\n",
       "<tr><td>KIC 5688669</td><td>5.79</td><td>0.58</td><td>0.06</td><td>6480.0</td><td>1.12</td><td>1.338</td></tr>\n",
       "<tr><td>KIC 3849795</td><td>17.72</td><td>1.43</td><td>0.16</td><td>6180.0</td><td>1.15</td><td>1.133</td></tr>\n",
       "<tr><td>KIC 3750091</td><td>31.76</td><td>0.08</td><td>0.01</td><td>7071.0</td><td>1.57</td><td>1.709</td></tr>\n",
       "<tr><td>KIC 4359409</td><td>23.44</td><td>0.64</td><td>0.05</td><td>6156.0</td><td>0.92</td><td>1.208</td></tr>\n",
       "<tr><td>KIC 9514963</td><td>18.3</td><td>0.7</td><td>0.06</td><td>6357.0</td><td>1.07</td><td>1.113</td></tr>\n",
       "<tr><td>KIC 7581961</td><td>12.21</td><td>1.09</td><td>0.23</td><td>6237.0</td><td>1.03</td><td>1.21</td></tr>\n",
       "<tr><td>KIC 7364224</td><td>4.62</td><td>0.17</td><td>0.09</td><td>5299.0</td><td>0.84</td><td>1.769</td></tr>\n",
       "<tr><td>KIC 4648556</td><td>25.61</td><td>0.5</td><td>0.02</td><td>6787.0</td><td>1.37</td><td>2.04</td></tr>\n",
       "</table>"
      ],
      "text/plain": [
       "<Table length=18>\n",
       "    KIC       Period   Amp   Amp_err  Tstar   Mstar   Rstar \n",
       "                d                       K    solMass  solRad\n",
       "   str12     float64 float64 float64 float64 float64 float64\n",
       "------------ ------- ------- ------- ------- ------- -------\n",
       " KIC 6862114   27.68    0.62    0.03  7227.0    1.29   1.782\n",
       "KIC 11397541   13.25    0.96    0.02  6254.0    1.08   1.064\n",
       " KIC 7837214    7.49    0.99    0.04  6170.0    0.91   0.981\n",
       " KIC 4371947   19.72    0.36    0.02  6720.0    1.44   1.671\n",
       " KIC 8694536   35.95    0.28    0.01  6279.0   1.063   1.525\n",
       " KIC 7870350  23.142    0.35    0.01  6444.0    1.22   1.436\n",
       "KIC 10737327   22.78    0.22    0.02  6244.0    1.08   1.017\n",
       " KIC 5363987   47.42    0.32    0.02  6190.0    0.97   1.196\n",
       "KIC 11498661   42.09    0.35    0.03  5257.0    0.79   0.849\n",
       " KIC 6946895   34.24    1.15    0.08  6266.0    1.05   0.985\n",
       " KIC 5688669    5.79    0.58    0.06  6480.0    1.12   1.338\n",
       " KIC 3849795   17.72    1.43    0.16  6180.0    1.15   1.133\n",
       " KIC 3750091   31.76    0.08    0.01  7071.0    1.57   1.709\n",
       " KIC 4359409   23.44    0.64    0.05  6156.0    0.92   1.208\n",
       " KIC 9514963    18.3     0.7    0.06  6357.0    1.07   1.113\n",
       " KIC 7581961   12.21    1.09    0.23  6237.0    1.03    1.21\n",
       " KIC 7364224    4.62    0.17    0.09  5299.0    0.84   1.769\n",
       " KIC 4648556   25.61     0.5    0.02  6787.0    1.37    2.04"
      ]
     },
     "execution_count": 26,
     "metadata": {},
     "output_type": "execute_result"
    }
   ],
   "source": [
    "from astropy.table import Table\n",
    "t = Table.read('woi_full.ecsv', format='ascii.ecsv')\n",
    "t"
   ]
  },
  {
   "cell_type": "code",
   "execution_count": 27,
   "metadata": {},
   "outputs": [
    {
     "data": {
      "text/plain": [
       "Text(0, 0.5, 'Amplitude [ppt]')"
      ]
     },
     "execution_count": 27,
     "metadata": {},
     "output_type": "execute_result"
    },
    {
     "data": {
      "image/png": "[encoded data removed]",
      "text/plain": [
       "<Figure size 432x288 with 1 Axes>"
      ]
     },
     "metadata": {
      "needs_background": "light"
     },
     "output_type": "display_data"
    }
   ],
   "source": [
    "plt.errorbar(t['Period'],t['Amp'],yerr=t['Amp_err'],fmt='.')\n",
    "plt.xlabel('Orbital period [d]')\n",
    "plt.ylabel('Amplitude [ppt]')"
   ]
  },
  {
   "cell_type": "code",
   "execution_count": 28,
   "metadata": {},
   "outputs": [],
   "source": [
    "@u.quantity_input\n",
    "def vmaxellip(m1:u.Msun,m2:u.Mjup,P:u.year,e)->u.km/u.s:\n",
    "    \"\"\"\n",
    "    Elliptical maximum velocity\n",
    "\n",
    "    Args:\n",
    "        m1: Primary and secondary masses\n",
    "        P: orbital period\n",
    "        e: eccentricity [0,1)\n",
    "\n",
    "    Returns:\n",
    "        velocity: maximum velocity in elliptical orbit\n",
    "\n",
    "    >>> import astropy.units as u\n",
    "    >>> vmaxellip(1.0 *u.M_sun, 1.0 * u.M_earth, 1.0 * u.yr, 0.0)\n",
    "    <Quantity 29.78490916 km / s>\n",
    "    \"\"\"\n",
    "    mu =  c.G * (m1 + m2)\n",
    "    c1 = 2 * np.pi * mu / P\n",
    "    c2 = (1 + e) / (1 - e)\n",
    "\n",
    "    vmax = np.power(c1, 1./3.) * np.power(c2, 1./2.)\n",
    "    # http://en.wikipedia.org/wiki/Circular_orbit\n",
    "    return vmax\n",
    "\n",
    "@u.quantity_input\n",
    "def vcirc(m1:u.Msun,m2:u.Mjup,a:u.au)->u.km/u.s:\n",
    "    \"\"\"\n",
    "    Circular orbital velocity of m2 about m1 at distance a\n",
    "\n",
    "    Args:\n",
    "        m1, m2: Primary and secondary masses\n",
    "        a: semimajor axis\n",
    "\n",
    "    Returns:\n",
    "        velocity: circular orbital velocity\n",
    "\n",
    "    >>> import astropy.units as u\n",
    "    >>> vcirc(1.0 *u.M_sun, 1.0 * u.M_jup, 5.2 * u.au)\n",
    "    <Quantity 13.06768412 km / s>\n",
    "    \"\"\"\n",
    "\n",
    "    # http://en.wikipedia.org/wiki/Circular_orbit\n",
    "    mu = c.G * (m1 + m2)\n",
    "    vcirc = np.power(mu /a, 0.5)\n",
    "    return vcirc\n",
    "\n",
    "\n",
    "@u.quantity_input\n",
    "def rhill(m1: u.Msun, m2: u.Mjup, a: u.au)->u.au:\n",
    "    \"\"\"\n",
    "    Hill radius of the secondary m2 orbiting around m1\n",
    "    \n",
    "    Args:\n",
    "        m1, m2: primary and secondary masses\n",
    "        a: distance between m1 and m2\n",
    "\n",
    "    Returns:\n",
    "        rhill: radius of Hill sphere of m2\n",
    "\n",
    "    >>> import astropy.units as u\n",
    "    >>> rhill(1.0 * u.M_sun, 1.0 * u.M_jup, 5.2 * u.au)\n",
    "    <Quantity 0.35489325 AU>\n",
    "    \"\"\"\n",
    "\n",
    "    mu = m2 / (m1 + m2)\n",
    "    rh = a * np.power(mu/3., 1./3.)\n",
    "    return rh\n",
    "\n",
    "@u.quantity_input\n",
    "def Ptoa(P:u.year, m1:u.M_sun, m2:u.M_jup)->u.au:\n",
    "    \"\"\"calculate orbital radius from period\n",
    "\n",
    "    Args:\n",
    "        P: orbital period\n",
    "        m1, m2: Primary and secondary masses\n",
    "\n",
    "    Returns:\n",
    "        a: semi-major axis\n",
    "\n",
    "    >>> import astropy.units as u\n",
    "    >>> Ptoa(11.86*u.year, 1.0*u.M_sun, 1.0*u.M_jup)\n",
    "    <Quantity 5.20222482 AU>\n",
    "    \"\"\"\n",
    "\n",
    "    # a^3/P^2 = (G/4pipi) (m1 + m2)\n",
    "    const = c.G / (4.*np.pi*np.pi)\n",
    "    mu = m1 + m2\n",
    "    a3 = (P*P*const*mu).decompose()\n",
    "    aa = np.power(a3, 1./3.)\n",
    "    \n",
    "    return aa\n",
    "\n",
    "@u.quantity_input\n",
    "def Teq(T:u.K, R:u.R_sun, a_orb:u.au, alb)->u.K:\n",
    "    \"\"\"calculate equilibrium temperature from a star\n",
    "\n",
    "    Args:\n",
    "        T: temperature of the star\n",
    "        R: radius of the star\n",
    "        a_orb: orbital distance of the planet\n",
    "        alb: albedo of the planet\n",
    "\n",
    "    Returns:\n",
    "        Teq: temperature of the planet\n",
    "\n",
    "    >>> import astropy.units as u\n",
    "    >>> Ptoa(11.86*u.year, 1.0*u.M_sun, 1.0*u.M_jup)\n",
    "    <Quantity 5.20222482 AU>\n",
    "    \"\"\"\n",
    "\n",
    "    # teq = T(1-a)^1/4 sqrt (r/2D)\n",
    "    a1 = T * np.power(1-alb, 0.25)\n",
    "    a2 = np.sqrt(R/(2*a_orb))\n",
    "    return a1*a2\n"
   ]
  },
  {
   "cell_type": "code",
   "execution_count": 29,
   "metadata": {},
   "outputs": [],
   "source": [
    "a_planet = Ptoa(t['Period'].to(u.year), t['Mstar'], np.zeros_like(t['Mstar'])).to(u.au)"
   ]
  },
  {
   "cell_type": "code",
   "execution_count": 30,
   "metadata": {},
   "outputs": [
    {
     "data": {
      "text/plain": [
       "Text(0, 0.5, 'Amplitude [ppt]')"
      ]
     },
     "execution_count": 30,
     "metadata": {},
     "output_type": "execute_result"
    },
    {
     "data": {
      "image/png": "[encoded data removed]",
      "text/plain": [
       "<Figure size 432x288 with 1 Axes>"
      ]
     },
     "metadata": {
      "needs_background": "light"
     },
     "output_type": "display_data"
    }
   ],
   "source": [
    "plt.errorbar(a_planet.value,t['Amp'],yerr=t['Amp_err'],fmt='.')\n",
    "plt.xlabel('Orbital distance [AU]')\n",
    "plt.ylabel('Amplitude [ppt]')"
   ]
  },
  {
   "cell_type": "code",
   "execution_count": 31,
   "metadata": {},
   "outputs": [
    {
     "name": "stdout",
     "output_type": "stream",
     "text": [
      "[1053.63704356  927.72418623 1093.66656822 1042.94375011  801.62207708\n",
      "  903.59105629  755.90568542  647.94758182  499.22206435  654.78463138\n",
      " 1411.90879775  849.69942478  933.2712101   826.31888443  867.39764935\n",
      " 1021.93461675 1501.631615   1075.64530438] K\n"
     ]
    }
   ],
   "source": [
    "Tplanet = Teq(t['Tstar'], t['Rstar'], a_planet, 0.0)\n",
    "print(Tplanet)"
   ]
  },
  {
   "cell_type": "code",
   "execution_count": 32,
   "metadata": {},
   "outputs": [
    {
     "data": {
      "text/plain": [
       "Text(0, 0.5, 'Amplitude [ppt]')"
      ]
     },
     "execution_count": 32,
     "metadata": {},
     "output_type": "execute_result"
    },
    {
     "data": {
      "image/png": "[encoded data removed]",
      "text/plain": [
       "<Figure size 432x288 with 1 Axes>"
      ]
     },
     "metadata": {
      "needs_background": "light"
     },
     "output_type": "display_data"
    }
   ],
   "source": [
    "plt.errorbar(Tplanet.value,t['Amp'],yerr=t['Amp_err'],fmt='.')\n",
    "plt.xlabel('Planet temperature [K]')\n",
    "plt.ylabel('Amplitude [ppt]')"
   ]
  },
  {
   "cell_type": "markdown",
   "metadata": {},
   "source": [
    "So, there's little correlation with planet temperature and amplitude of the effect, but at least the planets are all hot enough to have evaporation off and form an exosphere. The variation could be due to inclination angle and mass of the exoplanet, plenty of room there.\n"
   ]
  },
  {
   "cell_type": "code",
   "execution_count": null,
   "metadata": {},
   "outputs": [],
   "source": []
  }
 ],
 "metadata": {
  "kernelspec": {
   "display_name": "Python 3",
   "language": "python",
   "name": "python3"
  },
  "language_info": {
   "codemirror_mode": {
    "name": "ipython",
    "version": 3
   },
   "file_extension": ".py",
   "mimetype": "text/x-python",
   "name": "python",
   "nbconvert_exporter": "python",
   "pygments_lexer": "ipython3",
   "version": "3.6.8"
  }
 },
 "nbformat": 4,
 "nbformat_minor": 2
}
